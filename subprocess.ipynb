{
 "cells": [
  {
   "cell_type": "code",
   "execution_count": 292,
   "metadata": {},
   "outputs": [],
   "source": [
    "import subprocess\n",
    "from fcntl import fcntl, F_GETFL, F_SETFL\n",
    "from os import O_NONBLOCK"
   ]
  },
  {
   "cell_type": "markdown",
   "metadata": {},
   "source": [
    "il faut un stdout non bloquant voir \n",
    "http://eyalarubas.com/python-subproc-nonblock.html\n",
    "\n",
    "AVOIR tester le tty https://stackoverflow.com/questions/41542960/run-interactive-bash-with-popen-and-a-dedicated-tty-python"
   ]
  },
  {
   "cell_type": "code",
   "execution_count": 362,
   "metadata": {},
   "outputs": [
    {
     "name": "stdout",
     "output_type": "stream",
     "text": [
      "- None\n",
      "7205\n"
     ]
    }
   ],
   "source": [
    "p=subprocess.Popen(['/bin/bash'], shell=False, stdin= subprocess.PIPE, stdout= subprocess.PIPE, stderr= subprocess.STDOUT) #, universal_newlines=True)\n",
    "print('-', p.poll())\n",
    "\n",
    "print('pid :', p.pid)\n",
    "\n",
    "p.stdin.write(b'ls\\n')\n",
    "p.stdin.flush()"
   ]
  },
  {
   "cell_type": "code",
   "execution_count": 363,
   "metadata": {},
   "outputs": [
    {
     "data": {
      "text/plain": [
       "0"
      ]
     },
     "execution_count": 363,
     "metadata": {},
     "output_type": "execute_result"
    }
   ],
   "source": [
    "flags = fcntl(p.stdout, F_GETFL)\n",
    "fcntl(p.stdout, F_SETFL, flags | O_NONBLOCK)"
   ]
  },
  {
   "cell_type": "code",
   "execution_count": 364,
   "metadata": {},
   "outputs": [
    {
     "name": "stdout",
     "output_type": "stream",
     "text": [
      "cnn.ipynb\n",
      "kera.ipynb\n",
      "mnist.ipynb\n",
      "model_mnist_6cnn_100epoch.h5\n",
      "model_mnist_6cnn_100epoch.json\n",
      "model_mnist_6cnn_12epoch.h5\n",
      "model_mnist_6cnn_12epoch.json\n",
      "notes.ipynb\n",
      "pi.ipynb\n",
      "subprocess.ipynb\n",
      "\n"
     ]
    }
   ],
   "source": [
    "message=''\n",
    "out = p.stdout.read()\n",
    "while out is not None:\n",
    "    message += out.decode()\n",
    "    out = p.stdout.read()\n",
    "\n",
    "print(message)"
   ]
  },
  {
   "cell_type": "code",
   "execution_count": 360,
   "metadata": {},
   "outputs": [],
   "source": [
    "p.stdin.write(b'ls -l\\n')\n",
    "p.stdin.flush()"
   ]
  },
  {
   "cell_type": "code",
   "execution_count": 352,
   "metadata": {},
   "outputs": [],
   "source": [
    "p.stdin.write(b'ls aze\\n')\n",
    "p.stdin.flush()"
   ]
  },
  {
   "cell_type": "code",
   "execution_count": 359,
   "metadata": {},
   "outputs": [],
   "source": [
    "p.stdin.write(b'cd ..\\n')\n",
    "p.stdin.flush()"
   ]
  },
  {
   "cell_type": "code",
   "execution_count": 311,
   "metadata": {},
   "outputs": [
    {
     "name": "stdout",
     "output_type": "stream",
     "text": [
      "\n"
     ]
    }
   ],
   "source": [
    "message=''\n",
    "while True:\n",
    "    if p.stdout is None:\n",
    "        print('none')\n",
    "        break\n",
    "    if p.stdout:\n",
    "        out = p.stdout.read(1)\n",
    "        #print(p.stdout.raw)\n",
    "        if (out == b'') or (out == ''):\n",
    "            break\n",
    "        message += out #.decode()\n",
    "        #print('-', out.decode(), ord(out.decode())) # , p.poll() toujours None\n",
    "        print('-', out, ord(out))\n",
    "    else:\n",
    "        print('a plus')\n",
    "        break\n",
    "print(message)"
   ]
  },
  {
   "cell_type": "code",
   "execution_count": 167,
   "metadata": {},
   "outputs": [
    {
     "name": "stdout",
     "output_type": "stream",
     "text": [
      "True\n",
      "rb\n",
      "False\n",
      "False\n",
      "61\n",
      "False\n"
     ]
    },
    {
     "ename": "KeyboardInterrupt",
     "evalue": "",
     "output_type": "error",
     "traceback": [
      "\u001b[0;31m---------------------------------------------------------------------------\u001b[0m",
      "\u001b[0;31mKeyboardInterrupt\u001b[0m                         Traceback (most recent call last)",
      "\u001b[0;32m<ipython-input-167-e63aae152c1f>\u001b[0m in \u001b[0;36m<module>\u001b[0;34m\u001b[0m\n\u001b[1;32m      5\u001b[0m \u001b[0mprint\u001b[0m \u001b[0;34m(\u001b[0m\u001b[0mp\u001b[0m\u001b[0;34m.\u001b[0m\u001b[0mstdout\u001b[0m\u001b[0;34m.\u001b[0m\u001b[0mname\u001b[0m\u001b[0;34m)\u001b[0m\u001b[0;34m\u001b[0m\u001b[0;34m\u001b[0m\u001b[0m\n\u001b[1;32m      6\u001b[0m \u001b[0mprint\u001b[0m \u001b[0;34m(\u001b[0m\u001b[0mp\u001b[0m\u001b[0;34m.\u001b[0m\u001b[0mstdout\u001b[0m\u001b[0;34m.\u001b[0m\u001b[0mseekable\u001b[0m\u001b[0;34m(\u001b[0m\u001b[0;34m)\u001b[0m\u001b[0;34m)\u001b[0m\u001b[0;34m\u001b[0m\u001b[0;34m\u001b[0m\u001b[0m\n\u001b[0;32m----> 7\u001b[0;31m \u001b[0mprint\u001b[0m \u001b[0;34m(\u001b[0m\u001b[0mp\u001b[0m\u001b[0;34m.\u001b[0m\u001b[0mstdout\u001b[0m\u001b[0;34m.\u001b[0m\u001b[0mreadline\u001b[0m\u001b[0;34m(\u001b[0m\u001b[0;34m)\u001b[0m\u001b[0;34m)\u001b[0m\u001b[0;34m\u001b[0m\u001b[0;34m\u001b[0m\u001b[0m\n\u001b[0m",
      "\u001b[0;31mKeyboardInterrupt\u001b[0m: "
     ]
    }
   ],
   "source": [
    "print (p.stdout.readable())\n",
    "print (p.stdout.mode)\n",
    "print (p.stdout.closed)\n",
    "print (p.stdout.isatty())    \n",
    "print (p.stdout.name)\n",
    "print (p.stdout.seekable())\n",
    "print (p.stdout.readline())"
   ]
  },
  {
   "cell_type": "code",
   "execution_count": 365,
   "metadata": {},
   "outputs": [
    {
     "name": "stdout",
     "output_type": "stream",
     "text": [
      "b'4\\n'\n",
      "b'6\\n'\n"
     ]
    },
    {
     "data": {
      "text/plain": [
       "-15"
      ]
     },
     "execution_count": 365,
     "metadata": {},
     "output_type": "execute_result"
    }
   ],
   "source": [
    "proc = subprocess.Popen(['python3', '-i'],\n",
    "                        stdin=subprocess.PIPE,\n",
    "                        stdout=subprocess.PIPE,\n",
    "                        stderr=subprocess.PIPE)\n",
    "\n",
    "# To avoid deadlocks: careful to: add \\n to output, flush output, use\n",
    "# readline() rather than read()\n",
    "proc.stdin.write(b'2+2\\n')\n",
    "proc.stdin.flush()\n",
    "print(proc.stdout.readline())\n",
    "\n",
    "proc.stdin.write(b'len(\"foobar\")\\n')\n",
    "proc.stdin.flush()\n",
    "print(proc.stdout.readline())\n",
    "\n",
    "proc.stdin.close()\n",
    "proc.terminate()\n",
    "proc.wait(timeout=0.2)"
   ]
  }
 ],
 "metadata": {
  "kernelspec": {
   "display_name": "Python 3",
   "language": "python",
   "name": "python3"
  },
  "language_info": {
   "codemirror_mode": {
    "name": "ipython",
    "version": 3
   },
   "file_extension": ".py",
   "mimetype": "text/x-python",
   "name": "python",
   "nbconvert_exporter": "python",
   "pygments_lexer": "ipython3",
   "version": "3.7.3"
  }
 },
 "nbformat": 4,
 "nbformat_minor": 2
}
