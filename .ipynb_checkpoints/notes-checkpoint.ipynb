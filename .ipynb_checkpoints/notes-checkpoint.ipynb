{
 "cells": [
  {
   "cell_type": "markdown",
   "metadata": {},
   "source": [
    "# venv\n",
    "## creation\n",
    "\n",
    "## utilisation\n",
    " . prog/venv/sci/bin/activate\n",
    "\n"
   ]
  },
  {
   "cell_type": "markdown",
   "metadata": {},
   "source": [
    "# freecadweb\n",
    "## site\n",
    "https://www.freecadweb.org/wiki/User_hub\n",
    "\n",
    "https://www.freecadweb.org/wiki/Getting_started"
   ]
  },
  {
   "cell_type": "markdown",
   "metadata": {},
   "source": [
    "# electronique\n",
    "## esp32\n",
    "## HX711\n",
    "https://circuits4you.com/2016/11/25/hx711-arduino-load-cell/"
   ]
  },
  {
   "cell_type": "markdown",
   "metadata": {},
   "source": [
    "# Markdown\n",
    "https://help.github.com/articles/basic-writing-and-formatting-syntax/\n"
   ]
  },
  {
   "cell_type": "markdown",
   "metadata": {},
   "source": [
    "# GitHub\n",
    "## login\n",
    "```\n",
    "git config --global user.email \"loic.pessonnier@gmail.com\"\n",
    "git config --global user.name \"Pessonnier\"\n",
    "git config --global credential.helper cache\n",
    "```\n",
    "## creation\n",
    "```\n",
    "git init\n",
    "git add *\n",
    "git remote add origin https://github.com/pessonnier/notebook.git\n",
    "git commit -m\"sauvegarde de quelques notebook\"\n",
    "git push -u origin master\n",
    "```\n",
    "## modif\n",
    "```\n",
    "git add fichiermodifié\n",
    "git commit -m\"tout cassé\"\n",
    "git push\n",
    "```\n",
    "produit la sortie\n",
    "```\n",
    "Décompte des objets: 3, fait.\n",
    "Delta compression using up to 8 threads.\n",
    "Compression des objets: 100% (3/3), fait.\n",
    "Écriture des objets: 100% (3/3), 375 bytes | 0 bytes/s, fait.\n",
    "Total 3 (delta 2), reused 0 (delta 0)\n",
    "remote: Resolving deltas: 100% (2/2), completed with 2 local objects.\n",
    "To https://github.com/pessonnier/notebook.git\n",
    "   f5cfcc3..d907e02  master -> master\n",
    "```\n",
    "## jupyter\n",
    "rien de spécial"
   ]
  },
  {
   "cell_type": "code",
   "execution_count": null,
   "metadata": {},
   "outputs": [],
   "source": [
    " "
   ]
  }
 ],
 "metadata": {
  "kernelspec": {
   "display_name": "Python 3",
   "language": "python",
   "name": "python3"
  },
  "language_info": {
   "codemirror_mode": {
    "name": "ipython",
    "version": 3
   },
   "file_extension": ".py",
   "mimetype": "text/x-python",
   "name": "python",
   "nbconvert_exporter": "python",
   "pygments_lexer": "ipython3",
   "version": "3.5.2"
  }
 },
 "nbformat": 4,
 "nbformat_minor": 2
}
