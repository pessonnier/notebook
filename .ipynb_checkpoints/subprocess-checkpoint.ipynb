{
 "cells": [
  {
   "cell_type": "code",
   "execution_count": 292,
   "metadata": {},
   "outputs": [],
   "source": [
    "import subprocess\n",
    "from fcntl import fcntl, F_GETFL, F_SETFL\n",
    "from os import O_NONBLOCK"
   ]
  },
  {
   "cell_type": "code",
   "execution_count": 325,
   "metadata": {},
   "outputs": [
    {
     "name": "stdout",
     "output_type": "stream",
     "text": [
      "- None\n",
      "4417\n"
     ]
    }
   ],
   "source": [
    "p=subprocess.Popen(['/bin/bash'], shell=True, stdin= subprocess.PIPE, stdout= subprocess.PIPE, stderr= subprocess.STDOUT, universal_newlines=True)\n",
    "print('-', p.poll())\n",
    "\n",
    "print(p.pid)\n",
    "\n",
    "p.stdin.write('ls\\n')\n",
    "p.stdin.flush()"
   ]
  },
  {
   "cell_type": "code",
   "execution_count": 326,
   "metadata": {},
   "outputs": [
    {
     "data": {
      "text/plain": [
       "0"
      ]
     },
     "execution_count": 326,
     "metadata": {},
     "output_type": "execute_result"
    }
   ],
   "source": [
    "flags = fcntl(p.stdout, F_GETFL)\n",
    "fcntl(p.stdout, F_SETFL, flags | O_NONBLOCK)"
   ]
  },
  {
   "cell_type": "code",
   "execution_count": 327,
   "metadata": {},
   "outputs": [
    {
     "ename": "TypeError",
     "evalue": "can't concat NoneType to bytes",
     "output_type": "error",
     "traceback": [
      "\u001b[0;31m---------------------------------------------------------------------------\u001b[0m",
      "\u001b[0;31mTypeError\u001b[0m                                 Traceback (most recent call last)",
      "\u001b[0;32m<ipython-input-327-21f549e6af51>\u001b[0m in \u001b[0;36m<module>\u001b[0;34m\u001b[0m\n\u001b[1;32m      1\u001b[0m \u001b[0mmessage\u001b[0m\u001b[0;34m=\u001b[0m\u001b[0;34m''\u001b[0m\u001b[0;34m\u001b[0m\u001b[0;34m\u001b[0m\u001b[0m\n\u001b[1;32m      2\u001b[0m \u001b[0;32mwhile\u001b[0m \u001b[0;32mTrue\u001b[0m\u001b[0;34m:\u001b[0m\u001b[0;34m\u001b[0m\u001b[0;34m\u001b[0m\u001b[0m\n\u001b[0;32m----> 3\u001b[0;31m     \u001b[0mout\u001b[0m \u001b[0;34m=\u001b[0m \u001b[0mp\u001b[0m\u001b[0;34m.\u001b[0m\u001b[0mstdout\u001b[0m\u001b[0;34m.\u001b[0m\u001b[0mread\u001b[0m\u001b[0;34m(\u001b[0m\u001b[0;34m)\u001b[0m\u001b[0;34m\u001b[0m\u001b[0;34m\u001b[0m\u001b[0m\n\u001b[0m\u001b[1;32m      4\u001b[0m     \u001b[0;32mif\u001b[0m \u001b[0;34m(\u001b[0m\u001b[0mout\u001b[0m \u001b[0;34m==\u001b[0m \u001b[0;34mb''\u001b[0m\u001b[0;34m)\u001b[0m \u001b[0;32mor\u001b[0m \u001b[0;34m(\u001b[0m\u001b[0mout\u001b[0m \u001b[0;34m==\u001b[0m \u001b[0;34m''\u001b[0m\u001b[0;34m)\u001b[0m\u001b[0;34m:\u001b[0m\u001b[0;34m\u001b[0m\u001b[0;34m\u001b[0m\u001b[0m\n\u001b[1;32m      5\u001b[0m         \u001b[0;32mbreak\u001b[0m\u001b[0;34m\u001b[0m\u001b[0;34m\u001b[0m\u001b[0m\n",
      "\u001b[0;32m~/apps/anaconda3/envs/bureau/lib/python3.7/codecs.py\u001b[0m in \u001b[0;36mdecode\u001b[0;34m(self, input, final)\u001b[0m\n\u001b[1;32m    319\u001b[0m     \u001b[0;32mdef\u001b[0m \u001b[0mdecode\u001b[0m\u001b[0;34m(\u001b[0m\u001b[0mself\u001b[0m\u001b[0;34m,\u001b[0m \u001b[0minput\u001b[0m\u001b[0;34m,\u001b[0m \u001b[0mfinal\u001b[0m\u001b[0;34m=\u001b[0m\u001b[0;32mFalse\u001b[0m\u001b[0;34m)\u001b[0m\u001b[0;34m:\u001b[0m\u001b[0;34m\u001b[0m\u001b[0;34m\u001b[0m\u001b[0m\n\u001b[1;32m    320\u001b[0m         \u001b[0;31m# decode input (taking the buffer into account)\u001b[0m\u001b[0;34m\u001b[0m\u001b[0;34m\u001b[0m\u001b[0;34m\u001b[0m\u001b[0m\n\u001b[0;32m--> 321\u001b[0;31m         \u001b[0mdata\u001b[0m \u001b[0;34m=\u001b[0m \u001b[0mself\u001b[0m\u001b[0;34m.\u001b[0m\u001b[0mbuffer\u001b[0m \u001b[0;34m+\u001b[0m \u001b[0minput\u001b[0m\u001b[0;34m\u001b[0m\u001b[0;34m\u001b[0m\u001b[0m\n\u001b[0m\u001b[1;32m    322\u001b[0m         \u001b[0;34m(\u001b[0m\u001b[0mresult\u001b[0m\u001b[0;34m,\u001b[0m \u001b[0mconsumed\u001b[0m\u001b[0;34m)\u001b[0m \u001b[0;34m=\u001b[0m \u001b[0mself\u001b[0m\u001b[0;34m.\u001b[0m\u001b[0m_buffer_decode\u001b[0m\u001b[0;34m(\u001b[0m\u001b[0mdata\u001b[0m\u001b[0;34m,\u001b[0m \u001b[0mself\u001b[0m\u001b[0;34m.\u001b[0m\u001b[0merrors\u001b[0m\u001b[0;34m,\u001b[0m \u001b[0mfinal\u001b[0m\u001b[0;34m)\u001b[0m\u001b[0;34m\u001b[0m\u001b[0;34m\u001b[0m\u001b[0m\n\u001b[1;32m    323\u001b[0m         \u001b[0;31m# keep undecoded input until the next call\u001b[0m\u001b[0;34m\u001b[0m\u001b[0;34m\u001b[0m\u001b[0;34m\u001b[0m\u001b[0m\n",
      "\u001b[0;31mTypeError\u001b[0m: can't concat NoneType to bytes"
     ]
    }
   ],
   "source": [
    "message=''\n",
    "while True:\n",
    "    out = p.stdout.read(1)\n",
    "    if (out == b'') or (out == ''):\n",
    "        print('bye')\n",
    "        break\n",
    "    message += out #.decode()\n",
    "    #print('-', out.decode(), ord(out.decode())) # , p.poll() toujours None\n",
    "    #print('-', out, ord(out))\n",
    "print(message)"
   ]
  },
  {
   "cell_type": "code",
   "execution_count": 319,
   "metadata": {},
   "outputs": [],
   "source": [
    "p.stdin.write('ls -l\\n')\n",
    "p.stdin.flush()"
   ]
  },
  {
   "cell_type": "code",
   "execution_count": 311,
   "metadata": {},
   "outputs": [
    {
     "name": "stdout",
     "output_type": "stream",
     "text": [
      "\n"
     ]
    }
   ],
   "source": [
    "message=''\n",
    "while True:\n",
    "    if p.stdout is None:\n",
    "        print('none')\n",
    "        break\n",
    "    if p.stdout:\n",
    "        out = p.stdout.read(1)\n",
    "        #print(p.stdout.raw)\n",
    "        if (out == b'') or (out == ''):\n",
    "            break\n",
    "        message += out #.decode()\n",
    "        #print('-', out.decode(), ord(out.decode())) # , p.poll() toujours None\n",
    "        print('-', out, ord(out))\n",
    "    else:\n",
    "        print('a plus')\n",
    "        break\n",
    "print(message)"
   ]
  },
  {
   "cell_type": "code",
   "execution_count": 224,
   "metadata": {},
   "outputs": [
    {
     "name": "stdout",
     "output_type": "stream",
     "text": [
      "None\n",
      "True\n",
      "rb\n",
      "False\n",
      "False\n",
      "47\n",
      "False\n"
     ]
    },
    {
     "ename": "KeyboardInterrupt",
     "evalue": "",
     "output_type": "error",
     "traceback": [
      "\u001b[0;31m---------------------------------------------------------------------------\u001b[0m",
      "\u001b[0;31mKeyboardInterrupt\u001b[0m                         Traceback (most recent call last)",
      "\u001b[0;32m<ipython-input-224-a0ddd2dc2300>\u001b[0m in \u001b[0;36m<module>\u001b[0;34m\u001b[0m\n\u001b[1;32m      6\u001b[0m \u001b[0mprint\u001b[0m \u001b[0;34m(\u001b[0m\u001b[0mp\u001b[0m\u001b[0;34m.\u001b[0m\u001b[0mstdout\u001b[0m\u001b[0;34m.\u001b[0m\u001b[0mname\u001b[0m\u001b[0;34m)\u001b[0m\u001b[0;34m\u001b[0m\u001b[0;34m\u001b[0m\u001b[0m\n\u001b[1;32m      7\u001b[0m \u001b[0mprint\u001b[0m \u001b[0;34m(\u001b[0m\u001b[0mp\u001b[0m\u001b[0;34m.\u001b[0m\u001b[0mstdout\u001b[0m\u001b[0;34m.\u001b[0m\u001b[0mseekable\u001b[0m\u001b[0;34m(\u001b[0m\u001b[0;34m)\u001b[0m\u001b[0;34m)\u001b[0m\u001b[0;34m\u001b[0m\u001b[0;34m\u001b[0m\u001b[0m\n\u001b[0;32m----> 8\u001b[0;31m \u001b[0mprint\u001b[0m \u001b[0;34m(\u001b[0m\u001b[0mp\u001b[0m\u001b[0;34m.\u001b[0m\u001b[0mstdout\u001b[0m\u001b[0;34m.\u001b[0m\u001b[0mread\u001b[0m\u001b[0;34m(\u001b[0m\u001b[0;36m100\u001b[0m\u001b[0;34m)\u001b[0m\u001b[0;34m)\u001b[0m\u001b[0;34m\u001b[0m\u001b[0;34m\u001b[0m\u001b[0m\n\u001b[0m",
      "\u001b[0;31mKeyboardInterrupt\u001b[0m: "
     ]
    }
   ],
   "source": [
    "print (p.poll())\n",
    "print (p.stdout.readable())\n",
    "print (p.stdout.mode)\n",
    "print (p.stdout.closed)\n",
    "print (p.stdout.isatty())    \n",
    "print (p.stdout.name)\n",
    "print (p.stdout.seekable())\n",
    "print (p.stdout.read(100))"
   ]
  },
  {
   "cell_type": "code",
   "execution_count": 167,
   "metadata": {},
   "outputs": [
    {
     "name": "stdout",
     "output_type": "stream",
     "text": [
      "True\n",
      "rb\n",
      "False\n",
      "False\n",
      "61\n",
      "False\n"
     ]
    },
    {
     "ename": "KeyboardInterrupt",
     "evalue": "",
     "output_type": "error",
     "traceback": [
      "\u001b[0;31m---------------------------------------------------------------------------\u001b[0m",
      "\u001b[0;31mKeyboardInterrupt\u001b[0m                         Traceback (most recent call last)",
      "\u001b[0;32m<ipython-input-167-e63aae152c1f>\u001b[0m in \u001b[0;36m<module>\u001b[0;34m\u001b[0m\n\u001b[1;32m      5\u001b[0m \u001b[0mprint\u001b[0m \u001b[0;34m(\u001b[0m\u001b[0mp\u001b[0m\u001b[0;34m.\u001b[0m\u001b[0mstdout\u001b[0m\u001b[0;34m.\u001b[0m\u001b[0mname\u001b[0m\u001b[0;34m)\u001b[0m\u001b[0;34m\u001b[0m\u001b[0;34m\u001b[0m\u001b[0m\n\u001b[1;32m      6\u001b[0m \u001b[0mprint\u001b[0m \u001b[0;34m(\u001b[0m\u001b[0mp\u001b[0m\u001b[0;34m.\u001b[0m\u001b[0mstdout\u001b[0m\u001b[0;34m.\u001b[0m\u001b[0mseekable\u001b[0m\u001b[0;34m(\u001b[0m\u001b[0;34m)\u001b[0m\u001b[0;34m)\u001b[0m\u001b[0;34m\u001b[0m\u001b[0;34m\u001b[0m\u001b[0m\n\u001b[0;32m----> 7\u001b[0;31m \u001b[0mprint\u001b[0m \u001b[0;34m(\u001b[0m\u001b[0mp\u001b[0m\u001b[0;34m.\u001b[0m\u001b[0mstdout\u001b[0m\u001b[0;34m.\u001b[0m\u001b[0mreadline\u001b[0m\u001b[0;34m(\u001b[0m\u001b[0;34m)\u001b[0m\u001b[0;34m)\u001b[0m\u001b[0;34m\u001b[0m\u001b[0;34m\u001b[0m\u001b[0m\n\u001b[0m",
      "\u001b[0;31mKeyboardInterrupt\u001b[0m: "
     ]
    }
   ],
   "source": [
    "print (p.stdout.readable())\n",
    "print (p.stdout.mode)\n",
    "print (p.stdout.closed)\n",
    "print (p.stdout.isatty())    \n",
    "print (p.stdout.name)\n",
    "print (p.stdout.seekable())\n",
    "print (p.stdout.readline())"
   ]
  },
  {
   "cell_type": "code",
   "execution_count": 254,
   "metadata": {},
   "outputs": [
    {
     "name": "stdout",
     "output_type": "stream",
     "text": [
      "Help on method communicate in module subprocess:\n",
      "\n",
      "communicate(input=None, timeout=None) method of subprocess.Popen instance\n",
      "    Interact with process: Send data to stdin and close it.\n",
      "    Read data from stdout and stderr, until end-of-file is\n",
      "    reached.  Wait for process to terminate.\n",
      "    \n",
      "    The optional \"input\" argument should be data to be sent to the\n",
      "    child process, or None, if no data should be sent to the child.\n",
      "    communicate() returns a tuple (stdout, stderr).\n",
      "    \n",
      "    By default, all communication is in bytes, and therefore any\n",
      "    \"input\" should be bytes, and the (stdout, stderr) will be bytes.\n",
      "    If in text mode (indicated by self.text_mode), any \"input\" should\n",
      "    be a string, and (stdout, stderr) will be strings decoded\n",
      "    according to locale encoding, or by \"encoding\" if set. Text mode\n",
      "    is triggered by setting any of text, encoding, errors or\n",
      "    universal_newlines.\n",
      "\n"
     ]
    }
   ],
   "source": [
    "help(p.communicate)"
   ]
  },
  {
   "cell_type": "code",
   "execution_count": 210,
   "metadata": {},
   "outputs": [
    {
     "name": "stdout",
     "output_type": "stream",
     "text": [
      "Help on class Popen in module subprocess:\n",
      "\n",
      "class Popen(builtins.object)\n",
      " |  Popen(args, bufsize=-1, executable=None, stdin=None, stdout=None, stderr=None, preexec_fn=None, close_fds=True, shell=False, cwd=None, env=None, universal_newlines=None, startupinfo=None, creationflags=0, restore_signals=True, start_new_session=False, pass_fds=(), *, encoding=None, errors=None, text=None)\n",
      " |  \n",
      " |  Execute a child program in a new process.\n",
      " |  \n",
      " |  For a complete description of the arguments see the Python documentation.\n",
      " |  \n",
      " |  Arguments:\n",
      " |    args: A string, or a sequence of program arguments.\n",
      " |  \n",
      " |    bufsize: supplied as the buffering argument to the open() function when\n",
      " |        creating the stdin/stdout/stderr pipe file objects\n",
      " |  \n",
      " |    executable: A replacement program to execute.\n",
      " |  \n",
      " |    stdin, stdout and stderr: These specify the executed programs' standard\n",
      " |        input, standard output and standard error file handles, respectively.\n",
      " |  \n",
      " |    preexec_fn: (POSIX only) An object to be called in the child process\n",
      " |        just before the child is executed.\n",
      " |  \n",
      " |    close_fds: Controls closing or inheriting of file descriptors.\n",
      " |  \n",
      " |    shell: If true, the command will be executed through the shell.\n",
      " |  \n",
      " |    cwd: Sets the current directory before the child is executed.\n",
      " |  \n",
      " |    env: Defines the environment variables for the new process.\n",
      " |  \n",
      " |    text: If true, decode stdin, stdout and stderr using the given encoding\n",
      " |        (if set) or the system default otherwise.\n",
      " |  \n",
      " |    universal_newlines: Alias of text, provided for backwards compatibility.\n",
      " |  \n",
      " |    startupinfo and creationflags (Windows only)\n",
      " |  \n",
      " |    restore_signals (POSIX only)\n",
      " |  \n",
      " |    start_new_session (POSIX only)\n",
      " |  \n",
      " |    pass_fds (POSIX only)\n",
      " |  \n",
      " |    encoding and errors: Text mode encoding and error handling to use for\n",
      " |        file objects stdin, stdout and stderr.\n",
      " |  \n",
      " |  Attributes:\n",
      " |      stdin, stdout, stderr, pid, returncode\n",
      " |  \n",
      " |  Methods defined here:\n",
      " |  \n",
      " |  __del__(self, _maxsize=9223372036854775807, _warn=<built-in function warn>)\n",
      " |  \n",
      " |  __enter__(self)\n",
      " |  \n",
      " |  __exit__(self, exc_type, value, traceback)\n",
      " |  \n",
      " |  __init__(self, args, bufsize=-1, executable=None, stdin=None, stdout=None, stderr=None, preexec_fn=None, close_fds=True, shell=False, cwd=None, env=None, universal_newlines=None, startupinfo=None, creationflags=0, restore_signals=True, start_new_session=False, pass_fds=(), *, encoding=None, errors=None, text=None)\n",
      " |      Create new Popen instance.\n",
      " |  \n",
      " |  communicate(self, input=None, timeout=None)\n",
      " |      Interact with process: Send data to stdin and close it.\n",
      " |      Read data from stdout and stderr, until end-of-file is\n",
      " |      reached.  Wait for process to terminate.\n",
      " |      \n",
      " |      The optional \"input\" argument should be data to be sent to the\n",
      " |      child process, or None, if no data should be sent to the child.\n",
      " |      communicate() returns a tuple (stdout, stderr).\n",
      " |      \n",
      " |      By default, all communication is in bytes, and therefore any\n",
      " |      \"input\" should be bytes, and the (stdout, stderr) will be bytes.\n",
      " |      If in text mode (indicated by self.text_mode), any \"input\" should\n",
      " |      be a string, and (stdout, stderr) will be strings decoded\n",
      " |      according to locale encoding, or by \"encoding\" if set. Text mode\n",
      " |      is triggered by setting any of text, encoding, errors or\n",
      " |      universal_newlines.\n",
      " |  \n",
      " |  kill(self)\n",
      " |      Kill the process with SIGKILL\n",
      " |  \n",
      " |  poll(self)\n",
      " |      Check if child process has terminated. Set and return returncode\n",
      " |      attribute.\n",
      " |  \n",
      " |  send_signal(self, sig)\n",
      " |      Send a signal to the process.\n",
      " |  \n",
      " |  terminate(self)\n",
      " |      Terminate the process with SIGTERM\n",
      " |  \n",
      " |  wait(self, timeout=None)\n",
      " |      Wait for child process to terminate; returns self.returncode.\n",
      " |  \n",
      " |  ----------------------------------------------------------------------\n",
      " |  Data descriptors defined here:\n",
      " |  \n",
      " |  __dict__\n",
      " |      dictionary for instance variables (if defined)\n",
      " |  \n",
      " |  __weakref__\n",
      " |      list of weak references to the object (if defined)\n",
      " |  \n",
      " |  universal_newlines\n",
      "\n"
     ]
    }
   ],
   "source": [
    "help(subprocess.Popen)"
   ]
  },
  {
   "cell_type": "code",
   "execution_count": 62,
   "metadata": {},
   "outputs": [
    {
     "data": {
      "text/plain": [
       "-2"
      ]
     },
     "execution_count": 62,
     "metadata": {},
     "output_type": "execute_result"
    }
   ],
   "source": [
    "p.poll()"
   ]
  },
  {
   "cell_type": "code",
   "execution_count": 16,
   "metadata": {},
   "outputs": [
    {
     "data": {
      "text/plain": [
       "b''"
      ]
     },
     "execution_count": 16,
     "metadata": {},
     "output_type": "execute_result"
    }
   ],
   "source": [
    "p.stdout.read1()"
   ]
  },
  {
   "cell_type": "code",
   "execution_count": null,
   "metadata": {},
   "outputs": [],
   "source": [
    "out= p.stdout.read()\n",
    "print(out)"
   ]
  },
  {
   "cell_type": "code",
   "execution_count": null,
   "metadata": {},
   "outputs": [],
   "source": [
    "p.kill()"
   ]
  },
  {
   "cell_type": "code",
   "execution_count": null,
   "metadata": {},
   "outputs": [],
   "source": []
  }
 ],
 "metadata": {
  "kernelspec": {
   "display_name": "Python 3",
   "language": "python",
   "name": "python3"
  },
  "language_info": {
   "codemirror_mode": {
    "name": "ipython",
    "version": 3
   },
   "file_extension": ".py",
   "mimetype": "text/x-python",
   "name": "python",
   "nbconvert_exporter": "python",
   "pygments_lexer": "ipython3",
   "version": "3.7.3"
  }
 },
 "nbformat": 4,
 "nbformat_minor": 2
}
