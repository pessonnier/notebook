{
 "cells": [
  {
   "cell_type": "markdown",
   "metadata": {},
   "source": [
    "# venv\n",
    "## creation\n",
    "\n",
    "## utilisation\n",
    " . prog/venv/sci/bin/activate\n",
    "\n"
   ]
  },
  {
   "cell_type": "markdown",
   "metadata": {},
   "source": [
    "# freecadweb\n",
    "## site\n",
    "https://www.freecadweb.org/wiki/User_hub\n",
    "\n",
    "https://www.freecadweb.org/wiki/Getting_started"
   ]
  },
  {
   "cell_type": "markdown",
   "metadata": {},
   "source": [
    "# electronique\n",
    "## esp32\n",
    "## HX711\n",
    "https://circuits4you.com/2016/11/25/hx711-arduino-load-cell/"
   ]
  },
  {
   "cell_type": "markdown",
   "metadata": {},
   "source": [
    "# Markdown\n",
    "https://help.github.com/articles/basic-writing-and-formatting-syntax/\n"
   ]
  },
  {
   "cell_type": "markdown",
   "metadata": {},
   "source": [
    "# GitHub\n",
    "## login\n",
    "## creation\n",
    "## jupyter"
   ]
  },
  {
   "cell_type": "code",
   "execution_count": null,
   "metadata": {},
   "outputs": [],
   "source": [
    " "
   ]
  }
 ],
 "metadata": {
  "kernelspec": {
   "display_name": "Python 3",
   "language": "python",
   "name": "python3"
  },
  "language_info": {
   "codemirror_mode": {
    "name": "ipython",
    "version": 3
   },
   "file_extension": ".py",
   "mimetype": "text/x-python",
   "name": "python",
   "nbconvert_exporter": "python",
   "pygments_lexer": "ipython3",
   "version": "3.5.2"
  }
 },
 "nbformat": 4,
 "nbformat_minor": 2
}
