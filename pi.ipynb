{
 "cells": [
  {
   "cell_type": "code",
   "execution_count": 1,
   "metadata": {},
   "outputs": [
    {
     "data": {
      "text/plain": [
       "4"
      ]
     },
     "execution_count": 1,
     "metadata": {},
     "output_type": "execute_result"
    }
   ],
   "source": [
    "2+2"
   ]
  },
  {
   "cell_type": "code",
   "execution_count": 2,
   "metadata": {},
   "outputs": [
    {
     "name": "stdout",
     "output_type": "stream",
     "text": [
      "2\n",
      "3\n"
     ]
    }
   ],
   "source": [
    "a = 2\n",
    "b = 3\n",
    "print(a)\n",
    "print(b)"
   ]
  },
  {
   "cell_type": "code",
   "execution_count": 3,
   "metadata": {},
   "outputs": [
    {
     "data": {
      "text/plain": [
       "5"
      ]
     },
     "execution_count": 3,
     "metadata": {},
     "output_type": "execute_result"
    }
   ],
   "source": [
    "a+b"
   ]
  },
  {
   "cell_type": "code",
   "execution_count": 5,
   "metadata": {},
   "outputs": [],
   "source": [
    "c = 5"
   ]
  },
  {
   "cell_type": "code",
   "execution_count": 6,
   "metadata": {},
   "outputs": [
    {
     "name": "stdout",
     "output_type": "stream",
     "text": [
      "5\n"
     ]
    }
   ],
   "source": [
    "print(c)"
   ]
  },
  {
   "cell_type": "code",
   "execution_count": 8,
   "metadata": {},
   "outputs": [
    {
     "name": "stdout",
     "output_type": "stream",
     "text": [
      "5\n"
     ]
    }
   ],
   "source": [
    "c = a+b\n",
    "print(c)"
   ]
  },
  {
   "cell_type": "code",
   "execution_count": 11,
   "metadata": {},
   "outputs": [
    {
     "name": "stdout",
     "output_type": "stream",
     "text": [
      "2\n",
      "4\n",
      "6\n",
      "14\n"
     ]
    }
   ],
   "source": [
    "listeDeNombres = [1,2,3,7]\n",
    "for chiffre in listeDeNombres :\n",
    "    print(chiffre * 2)"
   ]
  },
  {
   "cell_type": "code",
   "execution_count": 15,
   "metadata": {},
   "outputs": [
    {
     "name": "stdout",
     "output_type": "stream",
     "text": [
      "0  fois  0  egal : 0\n",
      "0  fois  1  egal : 0\n",
      "0  fois  2  egal : 0\n",
      "0  fois  3  egal : 0\n",
      "0  fois  4  egal : 0\n",
      "0  fois  5  egal : 0\n",
      "0  fois  6  egal : 0\n",
      "0  fois  7  egal : 0\n",
      "0  fois  8  egal : 0\n",
      "0  fois  9  egal : 0\n",
      "0  fois  10  egal : 0\n",
      "0  fois  11  egal : 0\n",
      "0  fois  12  egal : 0\n",
      "0  fois  13  egal : 0\n",
      "0  fois  14  egal : 0\n",
      "0  fois  15  egal : 0\n",
      "0  fois  16  egal : 0\n",
      "1  fois  0  egal : 0\n",
      "1  fois  1  egal : 1\n",
      "1  fois  2  egal : 2\n",
      "1  fois  3  egal : 3\n",
      "1  fois  4  egal : 4\n",
      "1  fois  5  egal : 5\n",
      "1  fois  6  egal : 6\n",
      "1  fois  7  egal : 7\n",
      "1  fois  8  egal : 8\n",
      "1  fois  9  egal : 9\n",
      "1  fois  10  egal : 10\n",
      "1  fois  11  egal : 11\n",
      "1  fois  12  egal : 12\n",
      "1  fois  13  egal : 13\n",
      "1  fois  14  egal : 14\n",
      "1  fois  15  egal : 15\n",
      "1  fois  16  egal : 16\n",
      "2  fois  0  egal : 0\n",
      "2  fois  1  egal : 2\n",
      "2  fois  2  egal : 4\n",
      "2  fois  3  egal : 6\n",
      "2  fois  4  egal : 8\n",
      "2  fois  5  egal : 10\n",
      "2  fois  6  egal : 12\n",
      "2  fois  7  egal : 14\n",
      "2  fois  8  egal : 16\n",
      "2  fois  9  egal : 18\n",
      "2  fois  10  egal : 20\n",
      "2  fois  11  egal : 22\n",
      "2  fois  12  egal : 24\n",
      "2  fois  13  egal : 26\n",
      "2  fois  14  egal : 28\n",
      "2  fois  15  egal : 30\n",
      "2  fois  16  egal : 32\n",
      "3  fois  0  egal : 0\n",
      "3  fois  1  egal : 3\n",
      "3  fois  2  egal : 6\n",
      "3  fois  3  egal : 9\n",
      "3  fois  4  egal : 12\n",
      "3  fois  5  egal : 15\n",
      "3  fois  6  egal : 18\n",
      "3  fois  7  egal : 21\n",
      "3  fois  8  egal : 24\n",
      "3  fois  9  egal : 27\n",
      "3  fois  10  egal : 30\n",
      "3  fois  11  egal : 33\n",
      "3  fois  12  egal : 36\n",
      "3  fois  13  egal : 39\n",
      "3  fois  14  egal : 42\n",
      "3  fois  15  egal : 45\n",
      "3  fois  16  egal : 48\n",
      "4  fois  0  egal : 0\n",
      "4  fois  1  egal : 4\n",
      "4  fois  2  egal : 8\n",
      "4  fois  3  egal : 12\n",
      "4  fois  4  egal : 16\n",
      "4  fois  5  egal : 20\n",
      "4  fois  6  egal : 24\n",
      "4  fois  7  egal : 28\n",
      "4  fois  8  egal : 32\n",
      "4  fois  9  egal : 36\n",
      "4  fois  10  egal : 40\n",
      "4  fois  11  egal : 44\n",
      "4  fois  12  egal : 48\n",
      "4  fois  13  egal : 52\n",
      "4  fois  14  egal : 56\n",
      "4  fois  15  egal : 60\n",
      "4  fois  16  egal : 64\n",
      "5  fois  0  egal : 0\n",
      "5  fois  1  egal : 5\n",
      "5  fois  2  egal : 10\n",
      "5  fois  3  egal : 15\n",
      "5  fois  4  egal : 20\n",
      "5  fois  5  egal : 25\n",
      "5  fois  6  egal : 30\n",
      "5  fois  7  egal : 35\n",
      "5  fois  8  egal : 40\n",
      "5  fois  9  egal : 45\n",
      "5  fois  10  egal : 50\n",
      "5  fois  11  egal : 55\n",
      "5  fois  12  egal : 60\n",
      "5  fois  13  egal : 65\n",
      "5  fois  14  egal : 70\n",
      "5  fois  15  egal : 75\n",
      "5  fois  16  egal : 80\n",
      "6  fois  0  egal : 0\n",
      "6  fois  1  egal : 6\n",
      "6  fois  2  egal : 12\n",
      "6  fois  3  egal : 18\n",
      "6  fois  4  egal : 24\n",
      "6  fois  5  egal : 30\n",
      "6  fois  6  egal : 36\n",
      "6  fois  7  egal : 42\n",
      "6  fois  8  egal : 48\n",
      "6  fois  9  egal : 54\n",
      "6  fois  10  egal : 60\n",
      "6  fois  11  egal : 66\n",
      "6  fois  12  egal : 72\n",
      "6  fois  13  egal : 78\n",
      "6  fois  14  egal : 84\n",
      "6  fois  15  egal : 90\n",
      "6  fois  16  egal : 96\n",
      "7  fois  0  egal : 0\n",
      "7  fois  1  egal : 7\n",
      "7  fois  2  egal : 14\n",
      "7  fois  3  egal : 21\n",
      "7  fois  4  egal : 28\n",
      "7  fois  5  egal : 35\n",
      "7  fois  6  egal : 42\n",
      "7  fois  7  egal : 49\n",
      "7  fois  8  egal : 56\n",
      "7  fois  9  egal : 63\n",
      "7  fois  10  egal : 70\n",
      "7  fois  11  egal : 77\n",
      "7  fois  12  egal : 84\n",
      "7  fois  13  egal : 91\n",
      "7  fois  14  egal : 98\n",
      "7  fois  15  egal : 105\n",
      "7  fois  16  egal : 112\n",
      "8  fois  0  egal : 0\n",
      "8  fois  1  egal : 8\n",
      "8  fois  2  egal : 16\n",
      "8  fois  3  egal : 24\n",
      "8  fois  4  egal : 32\n",
      "8  fois  5  egal : 40\n",
      "8  fois  6  egal : 48\n",
      "8  fois  7  egal : 56\n",
      "8  fois  8  egal : 64\n",
      "8  fois  9  egal : 72\n",
      "8  fois  10  egal : 80\n",
      "8  fois  11  egal : 88\n",
      "8  fois  12  egal : 96\n",
      "8  fois  13  egal : 104\n",
      "8  fois  14  egal : 112\n",
      "8  fois  15  egal : 120\n",
      "8  fois  16  egal : 128\n",
      "9  fois  0  egal : 0\n",
      "9  fois  1  egal : 9\n",
      "9  fois  2  egal : 18\n",
      "9  fois  3  egal : 27\n",
      "9  fois  4  egal : 36\n",
      "9  fois  5  egal : 45\n",
      "9  fois  6  egal : 54\n",
      "9  fois  7  egal : 63\n",
      "9  fois  8  egal : 72\n",
      "9  fois  9  egal : 81\n",
      "9  fois  10  egal : 90\n",
      "9  fois  11  egal : 99\n",
      "9  fois  12  egal : 108\n",
      "9  fois  13  egal : 117\n",
      "9  fois  14  egal : 126\n",
      "9  fois  15  egal : 135\n",
      "9  fois  16  egal : 144\n",
      "10  fois  0  egal : 0\n",
      "10  fois  1  egal : 10\n",
      "10  fois  2  egal : 20\n",
      "10  fois  3  egal : 30\n",
      "10  fois  4  egal : 40\n",
      "10  fois  5  egal : 50\n",
      "10  fois  6  egal : 60\n",
      "10  fois  7  egal : 70\n",
      "10  fois  8  egal : 80\n",
      "10  fois  9  egal : 90\n",
      "10  fois  10  egal : 100\n",
      "10  fois  11  egal : 110\n",
      "10  fois  12  egal : 120\n",
      "10  fois  13  egal : 130\n",
      "10  fois  14  egal : 140\n",
      "10  fois  15  egal : 150\n",
      "10  fois  16  egal : 160\n",
      "11  fois  0  egal : 0\n",
      "11  fois  1  egal : 11\n",
      "11  fois  2  egal : 22\n",
      "11  fois  3  egal : 33\n",
      "11  fois  4  egal : 44\n",
      "11  fois  5  egal : 55\n",
      "11  fois  6  egal : 66\n",
      "11  fois  7  egal : 77\n",
      "11  fois  8  egal : 88\n",
      "11  fois  9  egal : 99\n",
      "11  fois  10  egal : 110\n",
      "11  fois  11  egal : 121\n",
      "11  fois  12  egal : 132\n",
      "11  fois  13  egal : 143\n",
      "11  fois  14  egal : 154\n",
      "11  fois  15  egal : 165\n",
      "11  fois  16  egal : 176\n",
      "12  fois  0  egal : 0\n",
      "12  fois  1  egal : 12\n",
      "12  fois  2  egal : 24\n",
      "12  fois  3  egal : 36\n",
      "12  fois  4  egal : 48\n",
      "12  fois  5  egal : 60\n",
      "12  fois  6  egal : 72\n",
      "12  fois  7  egal : 84\n",
      "12  fois  8  egal : 96\n",
      "12  fois  9  egal : 108\n",
      "12  fois  10  egal : 120\n",
      "12  fois  11  egal : 132\n",
      "12  fois  12  egal : 144\n",
      "12  fois  13  egal : 156\n",
      "12  fois  14  egal : 168\n",
      "12  fois  15  egal : 180\n",
      "12  fois  16  egal : 192\n",
      "13  fois  0  egal : 0\n",
      "13  fois  1  egal : 13\n",
      "13  fois  2  egal : 26\n",
      "13  fois  3  egal : 39\n",
      "13  fois  4  egal : 52\n",
      "13  fois  5  egal : 65\n",
      "13  fois  6  egal : 78\n",
      "13  fois  7  egal : 91\n",
      "13  fois  8  egal : 104\n",
      "13  fois  9  egal : 117\n",
      "13  fois  10  egal : 130\n",
      "13  fois  11  egal : 143\n",
      "13  fois  12  egal : 156\n",
      "13  fois  13  egal : 169\n",
      "13  fois  14  egal : 182\n",
      "13  fois  15  egal : 195\n",
      "13  fois  16  egal : 208\n",
      "14  fois  0  egal : 0\n",
      "14  fois  1  egal : 14\n",
      "14  fois  2  egal : 28\n",
      "14  fois  3  egal : 42\n",
      "14  fois  4  egal : 56\n",
      "14  fois  5  egal : 70\n",
      "14  fois  6  egal : 84\n",
      "14  fois  7  egal : 98\n",
      "14  fois  8  egal : 112\n",
      "14  fois  9  egal : 126\n",
      "14  fois  10  egal : 140\n",
      "14  fois  11  egal : 154\n",
      "14  fois  12  egal : 168\n",
      "14  fois  13  egal : 182\n",
      "14  fois  14  egal : 196\n",
      "14  fois  15  egal : 210\n",
      "14  fois  16  egal : 224\n",
      "15  fois  0  egal : 0\n",
      "15  fois  1  egal : 15\n",
      "15  fois  2  egal : 30\n",
      "15  fois  3  egal : 45\n",
      "15  fois  4  egal : 60\n",
      "15  fois  5  egal : 75\n",
      "15  fois  6  egal : 90\n",
      "15  fois  7  egal : 105\n",
      "15  fois  8  egal : 120\n",
      "15  fois  9  egal : 135\n",
      "15  fois  10  egal : 150\n",
      "15  fois  11  egal : 165\n",
      "15  fois  12  egal : 180\n",
      "15  fois  13  egal : 195\n",
      "15  fois  14  egal : 210\n",
      "15  fois  15  egal : 225\n",
      "15  fois  16  egal : 240\n",
      "16  fois  0  egal : 0\n",
      "16  fois  1  egal : 16\n",
      "16  fois  2  egal : 32\n",
      "16  fois  3  egal : 48\n",
      "16  fois  4  egal : 64\n",
      "16  fois  5  egal : 80\n",
      "16  fois  6  egal : 96\n",
      "16  fois  7  egal : 112\n",
      "16  fois  8  egal : 128\n",
      "16  fois  9  egal : 144\n",
      "16  fois  10  egal : 160\n",
      "16  fois  11  egal : 176\n",
      "16  fois  12  egal : 192\n",
      "16  fois  13  egal : 208\n",
      "16  fois  14  egal : 224\n",
      "16  fois  15  egal : 240\n",
      "16  fois  16  egal : 256\n"
     ]
    }
   ],
   "source": [
    "for x in range(17):\n",
    "    for y in range(17):\n",
    "        print (x,' fois ',y,' egal :', x * y)"
   ]
  },
  {
   "cell_type": "code",
   "execution_count": 17,
   "metadata": {},
   "outputs": [],
   "source": [
    "import math"
   ]
  },
  {
   "cell_type": "code",
   "execution_count": 18,
   "metadata": {},
   "outputs": [
    {
     "data": {
      "text/plain": [
       "3.141592653589793"
      ]
     },
     "execution_count": 18,
     "metadata": {},
     "output_type": "execute_result"
    }
   ],
   "source": [
    "math.pi"
   ]
  },
  {
   "cell_type": "code",
   "execution_count": 19,
   "metadata": {},
   "outputs": [],
   "source": [
    "def sindec(x):\n",
    "    \"\"\"Calcul du sinus de x\"\"\"\n",
    "    if type(x)!=type(Decimal):\n",
    "        x = Decimal(str(x))\n",
    "    xc = x*x\n",
    "    t = x\n",
    "    s1 = t\n",
    "    n = 0\n",
    "    while True:\n",
    "        n += 1\n",
    "        t *= -xc/(2*n*(2*n+1))\n",
    "        s2 = s1 + t\n",
    "        if s2==s1:\n",
    "            break\n",
    "        s1 = s2\n",
    "    return s2\n",
    "    "
   ]
  },
  {
   "cell_type": "code",
   "execution_count": 23,
   "metadata": {},
   "outputs": [],
   "source": [
    "from decimal import Decimal, getcontext\n",
    "def pidec():\n",
    "    \"\"\"Calcul de pi avec la précision courante (méthode avec arc sinus)\"\"\"\n",
    "    getcontext().prec += 2\n",
    "    x = Decimal(\"0.5\")\n",
    "    xc = x*x\n",
    "    k = x\n",
    "    s1 = k\n",
    "    n = 0\n",
    "    while True:\n",
    "        n += 1\n",
    "        k *= xc*(2*n-1)*(2*n-1)/(2*n*(2*n+1))\n",
    "        s2 = s1 + k\n",
    "        if s2 == s1:\n",
    "            break\n",
    "        s1 = s2\n",
    "    getcontext().prec -= 2\n",
    "    return 6*s2"
   ]
  },
  {
   "cell_type": "code",
   "execution_count": 24,
   "metadata": {},
   "outputs": [
    {
     "name": "stdout",
     "output_type": "stream",
     "text": [
      "3.1415926535897932384626433832795028841971693993751\n"
     ]
    }
   ],
   "source": [
    "getcontext().prec = 50\n",
    "print (pidec())"
   ]
  },
  {
   "cell_type": "code",
   "execution_count": null,
   "metadata": {},
   "outputs": [],
   "source": [
    "def pidec():\n",
    "    \"\"\"Calcul de pi avec la précision courante (Salamin et Brent)\"\"\"\n",
    "    getcontext().prec += 2\n",
    "    a1 = Decimal(\"1.0\")\n",
    "    b1 = Decimal(\"1.0\")/Decimal(\"2.0\").sqrt()\n",
    "    p1 = Decimal(\"1.0\")\n",
    "    t1 = Decimal(\"0.25\")\n",
    "    eps = Decimal(\"1.0e-\" + str(getcontext().prec-1))  # condition d'arrêt\n",
    "    while True:\n",
    "        a2 = (a1 + b1)/2\n",
    "        b2 = (a1*b1).sqrt()\n",
    "        p2 = 2*p1\n",
    "        a12 = a1-a2\n",
    "        t2 = t1-p1*a12*a12\n",
    "        if abs(a2-b2)<eps:\n",
    "            break\n",
    "        else:\n",
    "            a1, b1, p1, t1 = a2, b2, p2, t2\n",
    "    ab = a2+b2\n",
    "    res = (ab*ab)/(4*t2)\n",
    "    getcontext().prec -= 2\n",
    "    return res*1  # le *1 est pour revenir à la précision courante avec arrondi"
   ]
  },
  {
   "cell_type": "code",
   "execution_count": 25,
   "metadata": {},
   "outputs": [
    {
     "name": "stdout",
     "output_type": "stream",
     "text": [
      "3.1415926535897932384626433832795028841971693993751058209749445923078164062862089986280348253421170679821480865132823066470938446095505822317253594081284811174502841027019385211055596446229489549303819644288109756659334461284756482337867831652712019091456485669234603486104543266482133936072602491412737245870066063155881748815209209628292540917153643678925903600113305305488204665213841469519415116094330572703657595919530921861173819326117931051185480744623799627495673518857527248912279381830119491298336733624406566430860213949463952247371907021798609437027705392171762931767523846748184676694051320005681271452635608277857713427577896091736371787214684409012249534301465495853710507922796892589235420199561121290219608640344181598136297747713099605187072113499999983729780499510597317328160963185950244594553469083026425223082533446850352619311881710100031378387528865875332083814206171776691473035982534904287554687311595628638823537875937519577818577805321712268066130019278766111959092164201989380952572010654858632788659361533818279682303019520353018529689957736225994138912497217752834791315155748572424541506959508295331168617278558890750983817546374649393192550604009277016711390098488240128583616035637076601047101819429555961989467678374494482553797747268471040475346462080466842590694912933136770289891521047521620569660240580381501935112533824300355876402474964732639141992726042699227967823547816360093417216412199245863150302861829745557067498385054945885869269956909272107975093029553211653449872027559602364806654991198818347977535663698074265425278625518184175746728909777727938000816470600161452491921732172147723501414419735685481613611573525521334757418494684385233239073941433345477624168625189835694855620992192221842725502542568876717904946016534668049886272327917860857843838279679766814541009538837863609506800642251252051173929848960841284886269456042419652850222106611863067442786220391949450471237137869609563643719172874677646575739624138908658326459958133904780275900994657640789512694683983525957098258226205224894077267194782684826014769909026401363944374553050682034962524517493996514314298091906592509372216964615157098583874105978859597729754989301617539284681382686838689427741559918559252459539594310499725246808459872736446958486538367362226260991246080512438843904512441365497627807977156914359977001296160894416948685558484063534220722258284886481584560285060168427394522674676788952521385225499546667278239864565961163548862305774564980355936345681743241125150760694794510965960940252288797108931456691368672287489405601015033086179286809208747609178249385890097149096759852613655497818931297848216829989487226588048575640142704775551323796414515237462343645428584447952658678210511413547357395231134271661021359695362314429524849371871101457654035902799344037420073105785390621983874478084784896833214457138687519435064302184531910484810053706146806749192781911979399520614196634287544406437451237181921799983910159195618146751426912397489409071864942319615679452080951465502252316038819301420937621378559566389377870830390697920773467221825625996615014215030680384477345492026054146659252014974428507325186660021324340881907104863317346496514539057962685610055081066587969981635747363840525714591028970641401109712062804390397595156771577004203378699360072305587631763594218731251471205329281918261861258673215791984148488291644706095752706957220917567116722910981690915280173506712748583222871835209353965725121083579151369882091444210067510334671103141267111369908658516398315019701651511685171437657618351556508849099898599823873455283316355076479185358932261854896321329330898570642046752590709154814165498594616371802709819943099244889575712828905923233260972997120844335732654893823911932597463667305836041428138830320382490375898524374417029132765618093773444030707469211201913020330380197621101100449293215160842444859637669838952286847831235526582131449576857262433441893039686426243410773226978028073189154411010446823252716201052652272111660396665573092547110557853763466820653109896526918620564769312570586356620185581007293606598764861179104533488503461136576867532494416680396265797877185560845529654126654085306143444318586769751456614068007002378776591344017127494704205622305389945613140711270004078547332699390814546646458807972708266830634328587856983052358089330657574067954571637752542021149557615814002501262285941302164715509792592309907965473761255176567513575178296664547791745011299614890304639947132962107340437518957359614589019389713111790429782856475032031986915140287080859904801094121472213179476477726224142548545403321571853061422881375850430633217518297986622371721591607716692547487389866549494501146540628433663937900397692656721463853067360965712091807638327166416274888800786925602902284721040317211860820419000422966171196377921337575114959501566049631862947265473642523081770367515906735023507283540567040386743513622224771589150495309844489333096340878076932599397805419341447377441842631298608099888687413260472\n"
     ]
    }
   ],
   "source": [
    "getcontext().prec = 5000\n",
    "print (pidec())"
   ]
  },
  {
   "cell_type": "code",
   "execution_count": 26,
   "metadata": {},
   "outputs": [
    {
     "data": {
      "text/plain": [
       "12"
      ]
     },
     "execution_count": 26,
     "metadata": {},
     "output_type": "execute_result"
    }
   ],
   "source": [
    "3*4"
   ]
  },
  {
   "cell_type": "markdown",
   "metadata": {},
   "source": [
    "10 bonbons = 20 euros\n",
    "combient coutent 2 bonbons\n",
    "\n",
    "OOOOOOOOOO\n",
    "xxxxxxxxxx\n",
    "xxxxxxxxxx\n",
    "\n",
    "\n",
    "OO\n",
    "xx\n",
    "xx\n",
    "\n",
    "------\n",
    "\n",
    "3 : OOO\n",
    "9 : xxx\n",
    "    xxx\n",
    "    xxx\n",
    "\n",
    "\n",
    "OO\n",
    "xxxxxx\n",
    "\n",
    "----\n",
    "\n",
    "O O O\n",
    "x x x \n",
    "x x x \n",
    "x x x\n",
    "\n",
    "O   O   O\n",
    "xxx xxx xxx\n",
    "\n",
    "\n",
    "\n",
    "O O O O O O O O\n",
    "x x x x x x x x\n",
    ". . . . . . . .\n",
    "\n",
    "\n",
    "\n",
    "\n",
    "\n"
   ]
  },
  {
   "cell_type": "code",
   "execution_count": null,
   "metadata": {},
   "outputs": [],
   "source": []
  }
 ],
 "metadata": {
  "kernelspec": {
   "display_name": "Python 3",
   "language": "python",
   "name": "python3"
  },
  "language_info": {
   "codemirror_mode": {
    "name": "ipython",
    "version": 3
   },
   "file_extension": ".py",
   "mimetype": "text/x-python",
   "name": "python",
   "nbconvert_exporter": "python",
   "pygments_lexer": "ipython3",
   "version": "3.5.2"
  }
 },
 "nbformat": 4,
 "nbformat_minor": 2
}
